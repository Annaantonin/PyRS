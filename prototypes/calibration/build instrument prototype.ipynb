{
 "metadata": {
  "name": "",
  "signature": "sha256:3e4b527d96bbd07261d81620ce0bc22826459d3a1dfa3b61666f2a92a17ad5a6"
 },
 "nbformat": 3,
 "nbformat_minor": 0,
 "worksheets": [
  {
   "cells": [
    {
     "cell_type": "markdown",
     "metadata": {},
     "source": [
      "prototype for creating an instrument with same geometry that is created in Mantid"
     ]
    },
    {
     "cell_type": "markdown",
     "metadata": {},
     "source": [
      "rotation procedure for 1 pixel\n",
      " 1. assume the center of the detector is at center\n",
      " 2. shift along x-axis (horizontal)\n",
      " 3. shift along y-axis (vertical)\n",
      " 4. rotate along z-axis (calibrated)\n",
      " 5. rotate along y-axis (calibrated)\n",
      " 6. rotate along x-axis (calibrated)\n",
      " 7. move to R along z-axis\n",
      " 8. rotate along y-axis (2theta)"
     ]
    },
    {
     "cell_type": "code",
     "collapsed": false,
     "input": [
      "import numpy"
     ],
     "language": "python",
     "metadata": {},
     "outputs": [],
     "prompt_number": 2
    },
    {
     "cell_type": "code",
     "collapsed": false,
     "input": [
      "degree = 90 * numpy.pi / 180."
     ],
     "language": "python",
     "metadata": {},
     "outputs": [],
     "prompt_number": 3
    },
    {
     "cell_type": "code",
     "collapsed": false,
     "input": [
      "rotate_z = numpy.matrix([[numpy.cos(degree), -numpy.sin(degree), 0.], [numpy.sin(degree), numpy.cos(degree), 0.], [0., 0., 1]], 'float')"
     ],
     "language": "python",
     "metadata": {},
     "outputs": [],
     "prompt_number": 7
    },
    {
     "cell_type": "code",
     "collapsed": false,
     "input": [
      "center = numpy.matrix([0, 0, 2])"
     ],
     "language": "python",
     "metadata": {},
     "outputs": [],
     "prompt_number": 16
    },
    {
     "cell_type": "code",
     "collapsed": false,
     "input": [
      "rotate_y = numpy.matrix([[numpy.cos(degree), 0., numpy.sin(degree)], [0., 1., 0.], [-numpy.sin(degree), 0., numpy.cos(degree)]], 'float')"
     ],
     "language": "python",
     "metadata": {},
     "outputs": [],
     "prompt_number": 9
    },
    {
     "cell_type": "markdown",
     "metadata": {},
     "source": [
      "rotate about Y axis (vertical in Mantid)"
     ]
    },
    {
     "cell_type": "code",
     "collapsed": false,
     "input": [
      "rotate_y * center.transpose()"
     ],
     "language": "python",
     "metadata": {},
     "outputs": [
      {
       "metadata": {},
       "output_type": "pyout",
       "prompt_number": 18,
       "text": [
        "matrix([[  2.00000000e+00],\n",
        "        [  0.00000000e+00],\n",
        "        [  1.22464680e-16]])"
       ]
      }
     ],
     "prompt_number": 18
    },
    {
     "cell_type": "code",
     "collapsed": false,
     "input": [
      "left_edget = numpy.matrix([0.5, 0., 2])\n",
      "rotate_y * left_edget.transpose()"
     ],
     "language": "python",
     "metadata": {},
     "outputs": [
      {
       "metadata": {},
       "output_type": "pyout",
       "prompt_number": 20,
       "text": [
        "matrix([[ 2. ],\n",
        "        [ 0. ],\n",
        "        [-0.5]])"
       ]
      }
     ],
     "prompt_number": 20
    },
    {
     "cell_type": "markdown",
     "metadata": {},
     "source": [
      "Playground is above this line.\n",
      "\n",
      "What below is serious"
     ]
    },
    {
     "cell_type": "code",
     "collapsed": false,
     "input": [
      "def build_detector():\n",
      "    # detector list: center, lower-left, upper-left, lower-right, upper-right\n",
      "    pixel_pos_list = [[0., 0., 0.],\n",
      "                      [1, -1, 0.],\n",
      "                      [1, 1, 0.],\n",
      "                      [-1., -1., 0.],\n",
      "                      [-1., 1., 0]]\n",
      "    pixel_matrix = numpy.matrix(pixel_pos_list).transpose()\n",
      "    \n",
      "    return pixel_matrix"
     ],
     "language": "python",
     "metadata": {},
     "outputs": [],
     "prompt_number": 12
    },
    {
     "cell_type": "code",
     "collapsed": false,
     "input": [
      "def rotate_y(pixel_matrix, degree):\n",
      "    degree = degree * numpy.pi / 180.\n",
      "    rotate_matrix = numpy.matrix([[numpy.cos(degree), 0., numpy.sin(degree)], [0., 1., 0.], [-numpy.sin(degree), 0., numpy.cos(degree)]],\n",
      "                                 'float')\n",
      "    rotated_pixel_matrix = rotate_matrix * pixel_matrix\n",
      "    \n",
      "    return rotated_pixel_matrix\n",
      "\n",
      "pixel_matrix = build_detector()\n",
      "print pixel_matrix\n",
      "print rotate_y(pixel_matrix, 30)"
     ],
     "language": "python",
     "metadata": {},
     "outputs": [
      {
       "output_type": "stream",
       "stream": "stdout",
       "text": [
        "[[ 0.  1.  1. -1. -1.]\n",
        " [ 0. -1.  1. -1.  1.]\n",
        " [ 0.  0.  0.  0.  0.]]\n",
        "[[ 0.         0.8660254  0.8660254 -0.8660254 -0.8660254]\n",
        " [ 0.        -1.         1.        -1.         1.       ]\n",
        " [ 0.        -0.5       -0.5        0.5        0.5      ]]\n"
       ]
      }
     ],
     "prompt_number": 27
    },
    {
     "cell_type": "code",
     "collapsed": false,
     "input": [
      "det_poss = numpy.array([[0.149854,-0.149854,0.], [0.149854,0.149854,0.], [-0.149854,-0.149854,0.],[-0.149854,0.149854,0.],\n",
      "                        [0.000146484,-0.000146484,0.]])"
     ],
     "language": "python",
     "metadata": {},
     "outputs": [],
     "prompt_number": 3
    },
    {
     "cell_type": "code",
     "collapsed": false,
     "input": [
      "a = det_poss[:]"
     ],
     "language": "python",
     "metadata": {},
     "outputs": [],
     "prompt_number": 5
    },
    {
     "cell_type": "code",
     "collapsed": false,
     "input": [
      "a[:, 2] += 0.96"
     ],
     "language": "python",
     "metadata": {},
     "outputs": [],
     "prompt_number": 8
    },
    {
     "cell_type": "code",
     "collapsed": false,
     "input": [
      "det_poss"
     ],
     "language": "python",
     "metadata": {},
     "outputs": [
      {
       "metadata": {},
       "output_type": "pyout",
       "prompt_number": 11,
       "text": [
        "array([[  1.49854000e-01,  -1.49854000e-01,   9.60000000e-01],\n",
        "       [  1.49854000e-01,   1.49854000e-01,   9.60000000e-01],\n",
        "       [ -1.49854000e-01,  -1.49854000e-01,   9.60000000e-01],\n",
        "       [ -1.49854000e-01,   1.49854000e-01,   9.60000000e-01],\n",
        "       [  1.46484000e-04,  -1.46484000e-04,   9.60000000e-01]])"
       ]
      }
     ],
     "prompt_number": 11
    },
    {
     "cell_type": "code",
     "collapsed": false,
     "input": [
      "det_matrix = build_detector()"
     ],
     "language": "python",
     "metadata": {},
     "outputs": [],
     "prompt_number": 13
    },
    {
     "cell_type": "code",
     "collapsed": false,
     "input": [
      "det_matrix[:, 2] += 5"
     ],
     "language": "python",
     "metadata": {},
     "outputs": [],
     "prompt_number": 14
    },
    {
     "cell_type": "code",
     "collapsed": false,
     "input": [
      "det_matrix"
     ],
     "language": "python",
     "metadata": {},
     "outputs": [
      {
       "metadata": {},
       "output_type": "pyout",
       "prompt_number": 16,
       "text": [
        "matrix([[ 0.,  1.,  6., -1., -1.],\n",
        "        [ 0., -1.,  6., -1.,  1.],\n",
        "        [ 0.,  0.,  5.,  0.,  0.]])"
       ]
      }
     ],
     "prompt_number": 16
    }
   ],
   "metadata": {}
  }
 ]
}
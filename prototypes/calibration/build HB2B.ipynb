{
 "cells": [
  {
   "cell_type": "code",
   "execution_count": 2,
   "metadata": {
    "collapsed": true
   },
   "outputs": [],
   "source": [
    "import numpy\n",
    "import numpy as np"
   ]
  },
  {
   "cell_type": "markdown",
   "metadata": {},
   "source": [
    "Specifiy 5 pixels position relative to center of detector:\n",
    " - lower left corner\n",
    " - upper left corner\n",
    " - lower right corner\n",
    " - upper right corner\n",
    " - lower left center"
   ]
  },
  {
   "cell_type": "code",
   "execution_count": 5,
   "metadata": {
    "collapsed": false
   },
   "outputs": [],
   "source": [
    "det_pos_list = [[0.149854,-0.149854,0.], [0.149854,0.149854,0.], [-0.149854,-0.149854,0.],\n",
    "                [-0.149854,0.149854,0.], [0.000146484,-0.000146484,0.]]"
   ]
  },
  {
   "cell_type": "markdown",
   "metadata": {},
   "source": [
    "det_pos_array = np.array(det_pos_list)"
   ]
  },
  {
   "cell_type": "markdown",
   "metadata": {},
   "source": [
    "Definition of operation"
   ]
  },
  {
   "cell_type": "code",
   "execution_count": 8,
   "metadata": {
    "collapsed": false
   },
   "outputs": [],
   "source": [
    "def set_arm(det_pos_array, r):\n",
    "    \"\"\" move from origin to +Z (arm distance)\n",
    "    \"\"\"\n",
    "    det_pos_array[:, 2] += r\n",
    "    \n",
    "    return det_pos_array"
   ]
  },
  {
   "cell_type": "code",
   "execution_count": 18,
   "metadata": {
    "collapsed": false
   },
   "outputs": [],
   "source": [
    "def rotate_axis_x(det_pos_array, angle_degree):\n",
    "    \"\"\" rotate a set of positions along X axis\n",
    "    \"\"\"\n",
    "        # build rotation matrix\n",
    "    angle_rad = angle_degree * numpy.pi / 180.\n",
    "    rotate_matrix = numpy.matrix([[1., 0., 0.],\n",
    "                                  [0., numpy.cos(angle_rad), -numpy.sin(angle_rad)],\n",
    "                                  [0., numpy.sin(angle_rad), numpy.cos(angle_rad)]],\n",
    "                                 'float')\n",
    "    rotated_pixel_matrix = rotate_matrix * det_pos_array.transpose()\n",
    "    \n",
    "    return rotated_pixel_matrix.transpose()"
   ]
  },
  {
   "cell_type": "code",
   "execution_count": 13,
   "metadata": {
    "collapsed": false
   },
   "outputs": [],
   "source": [
    "def rotate_axis_y(det_pos_array, angle_degree):\n",
    "    \"\"\" rotate a set of positions around Y axis\n",
    "    \"\"\"\n",
    "    # build rotation matrix\n",
    "    angle_rad = angle_degree * numpy.pi / 180.\n",
    "    rotate_matrix = numpy.matrix([[numpy.cos(angle_rad), 0., numpy.sin(angle_rad)],\n",
    "                                  [0., 1., 0.],\n",
    "                                  [-numpy.sin(angle_rad), 0., numpy.cos(angle_rad)]],\n",
    "                                 'float')\n",
    "    rotated_pixel_matrix = rotate_matrix * det_pos_array.transpose()\n",
    "    \n",
    "    return rotated_pixel_matrix.transpose()"
   ]
  },
  {
   "cell_type": "code",
   "execution_count": 21,
   "metadata": {
    "collapsed": false
   },
   "outputs": [],
   "source": [
    "def rotate_axis_z(det_pos_array, angle_degree):\n",
    "    \"\"\" rotate a set of positions around Z axis\n",
    "    \"\"\"\n",
    "    # build rotation matrix\n",
    "    angle_rad = angle_degree * numpy.pi / 180.\n",
    "    rotate_matrix = numpy.matrix([[numpy.cos(angle_rad), -numpy.sin(angle_rad), 0.],\n",
    "                                  [numpy.sin(angle_rad), numpy.cos(angle_rad), 0.],\n",
    "                                  [0., 0., 1.]],\n",
    "                                 'float')\n",
    "    rotated_pixel_matrix = rotate_matrix * det_pos_array.transpose()\n",
    "    \n",
    "    return rotated_pixel_matrix.transpose()"
   ]
  },
  {
   "cell_type": "markdown",
   "metadata": {},
   "source": [
    "#### Test 1: Move along +Z direction (step 1)"
   ]
  },
  {
   "cell_type": "code",
   "execution_count": 12,
   "metadata": {
    "collapsed": false
   },
   "outputs": [
    {
     "name": "stdout",
     "output_type": "stream",
     "text": [
      "[[  1.49854000e-01  -1.49854000e-01   9.50000000e-01]\n",
      " [  1.49854000e-01   1.49854000e-01   9.50000000e-01]\n",
      " [ -1.49854000e-01  -1.49854000e-01   9.50000000e-01]\n",
      " [ -1.49854000e-01   1.49854000e-01   9.50000000e-01]\n",
      " [  1.46484000e-04  -1.46484000e-04   9.50000000e-01]]\n"
     ]
    }
   ],
   "source": [
    "raw_pos_array = np.matrix(det_pos_list)\n",
    "step1_pos = set_arm(raw_pos_array, 0.95)\n",
    "print (step1_pos)"
   ]
  },
  {
   "cell_type": "markdown",
   "metadata": {},
   "source": [
    "#### Test 2: Move along +Z, Rotate along Y-axis for 90 degree"
   ]
  },
  {
   "cell_type": "code",
   "execution_count": 15,
   "metadata": {
    "collapsed": false
   },
   "outputs": [
    {
     "name": "stdout",
     "output_type": "stream",
     "text": [
      "[[ -9.50000000e-01  -1.49854000e-01   1.49854000e-01]\n",
      " [ -9.50000000e-01   1.49854000e-01   1.49854000e-01]\n",
      " [ -9.50000000e-01  -1.49854000e-01  -1.49854000e-01]\n",
      " [ -9.50000000e-01   1.49854000e-01  -1.49854000e-01]\n",
      " [ -9.50000000e-01  -1.46484000e-04   1.46484000e-04]]\n"
     ]
    }
   ],
   "source": [
    "raw_pos_array = np.matrix(det_pos_list)\n",
    "step1_pos = set_arm(raw_pos_array, 0.95)\n",
    "step2_pos = rotate_axis_y(step1_pos, -90.)  # must be negative\n",
    "print (step2_pos)"
   ]
  },
  {
   "cell_type": "markdown",
   "metadata": {},
   "source": [
    "#### Test 3: Rotate along X-axis for 15 degree (flip), Move along +Z"
   ]
  },
  {
   "cell_type": "code",
   "execution_count": 20,
   "metadata": {
    "collapsed": false
   },
   "outputs": [
    {
     "name": "stdout",
     "output_type": "stream",
     "text": [
      "[[  1.49854000e-01  -1.44747849e-01   9.11214931e-01]\n",
      " [  1.49854000e-01   1.44747849e-01   9.88785069e-01]\n",
      " [ -1.49854000e-01  -1.44747849e-01   9.11214931e-01]\n",
      " [ -1.49854000e-01   1.44747849e-01   9.88785069e-01]\n",
      " [  1.46484000e-04  -1.41492679e-04   9.49962087e-01]]\n"
     ]
    }
   ],
   "source": [
    "raw_pos_array = np.matrix(det_pos_list)\n",
    "step1_pos = rotate_axis_x(raw_pos_array, 15.)  # must be negative\n",
    "step2_pos = set_arm(step1_pos, 0.95)\n",
    "print (step2_pos)"
   ]
  },
  {
   "cell_type": "markdown",
   "metadata": {},
   "source": [
    "#### Test 4: Rotate along Z-axis for 5 degree (Spin), Move along +Z"
   ]
  },
  {
   "cell_type": "code",
   "execution_count": 22,
   "metadata": {
    "collapsed": false
   },
   "outputs": [
    {
     "name": "stdout",
     "output_type": "stream",
     "text": [
      "[[  1.62344397e-01  -1.36223124e-01   9.50000000e-01]\n",
      " [  1.36223124e-01   1.62344397e-01   9.50000000e-01]\n",
      " [ -1.36223124e-01  -1.62344397e-01   9.50000000e-01]\n",
      " [ -1.62344397e-01   1.36223124e-01   9.50000000e-01]\n",
      " [  1.58693506e-04  -1.33159662e-04   9.50000000e-01]]\n"
     ]
    }
   ],
   "source": [
    "raw_pos_array = np.matrix(det_pos_list)\n",
    "step1_pos = rotate_axis_z(raw_pos_array, 5.)\n",
    "step2_pos = set_arm(step1_pos, 0.95)\n",
    "print (step2_pos)"
   ]
  },
  {
   "cell_type": "markdown",
   "metadata": {},
   "source": [
    "#### Test 5: Rotate along Z-axis (5 degree), Rotate along X-axis (15 degree), Move along +Z"
   ]
  },
  {
   "cell_type": "code",
   "execution_count": 23,
   "metadata": {
    "collapsed": false
   },
   "outputs": [
    {
     "name": "stdout",
     "output_type": "stream",
     "text": [
      "[[  1.62344397e-01  -1.31581433e-01   9.14742861e-01]\n",
      " [  1.36223124e-01   1.56812646e-01   9.92017822e-01]\n",
      " [ -1.36223124e-01  -1.56812646e-01   9.07982178e-01]\n",
      " [ -1.62344397e-01   1.31581433e-01   9.85257139e-01]\n",
      " [  1.58693506e-04  -1.28622357e-04   9.49965536e-01]]\n"
     ]
    }
   ],
   "source": [
    "raw_pos_array = np.matrix(det_pos_list)\n",
    "step1_pos = rotate_axis_z(raw_pos_array, 5.)\n",
    "step2_pos = rotate_axis_x(step1_pos, 15.)\n",
    "step3_pos = set_arm(step2_pos, 0.95)\n",
    "print (step3_pos)"
   ]
  },
  {
   "cell_type": "markdown",
   "metadata": {},
   "source": [
    "#### Test 6: Rotate along X-axis (15 degree), Rotate along Z-axis (5 degree), Move along +Z"
   ]
  },
  {
   "cell_type": "code",
   "execution_count": 24,
   "metadata": {
    "collapsed": false
   },
   "outputs": [
    {
     "name": "stdout",
     "output_type": "stream",
     "text": [
      "[[  1.61899367e-01  -1.31136403e-01   9.11214931e-01]\n",
      " [  1.36668154e-01   1.57257676e-01   9.88785069e-01]\n",
      " [ -1.36668154e-01  -1.57257676e-01   9.11214931e-01]\n",
      " [ -1.61899367e-01   1.31136403e-01   9.88785069e-01]\n",
      " [  1.58258484e-04  -1.28187335e-04   9.49962087e-01]]\n"
     ]
    }
   ],
   "source": [
    "raw_pos_array = np.matrix(det_pos_list)\n",
    "step1_pos = rotate_axis_x(raw_pos_array, 15.)\n",
    "step2_pos = rotate_axis_z(step1_pos, 5.)\n",
    "step3_pos = set_arm(step2_pos, 0.95)\n",
    "print (step3_pos)"
   ]
  },
  {
   "cell_type": "markdown",
   "metadata": {},
   "source": [
    "#### Test 7: Rotate along X-axis (15 degree), Rotate along Z-axis (5 degree), Move along +Z, rotate detector to 2theta=85."
   ]
  },
  {
   "cell_type": "code",
   "execution_count": 26,
   "metadata": {
    "collapsed": false
   },
   "outputs": [
    {
     "name": "stdout",
     "output_type": "stream",
     "text": [
      "[[ -9.11214931e-01  -1.31136403e-01   1.61899367e-01]\n",
      " [ -9.88785069e-01   1.57257676e-01   1.36668154e-01]\n",
      " [ -9.11214931e-01  -1.57257676e-01  -1.36668154e-01]\n",
      " [ -9.88785069e-01   1.31136403e-01  -1.61899367e-01]\n",
      " [ -9.49962087e-01  -1.28187335e-04   1.58258484e-04]]\n"
     ]
    }
   ],
   "source": [
    "raw_pos_array = np.matrix(det_pos_list)\n",
    "step1_pos = rotate_axis_x(raw_pos_array, 15.)\n",
    "step2_pos = rotate_axis_z(step1_pos, 5.)\n",
    "step3_pos = set_arm(step2_pos, 0.95)\n",
    "step4_pos = rotate_axis_y(step3_pos, -90.)\n",
    "print (step4_pos)"
   ]
  }
 ],
 "metadata": {
  "kernelspec": {
   "display_name": "Python 3",
   "language": "python",
   "name": "python3"
  },
  "language_info": {
   "codemirror_mode": {
    "name": "ipython",
    "version": 3
   },
   "file_extension": ".py",
   "mimetype": "text/x-python",
   "name": "python",
   "nbconvert_exporter": "python",
   "pygments_lexer": "ipython3",
   "version": "3.5.2"
  }
 },
 "nbformat": 4,
 "nbformat_minor": 0
}

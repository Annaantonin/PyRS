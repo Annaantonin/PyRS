{
 "metadata": {
  "name": "",
  "signature": "sha256:a3d805b569fdc741101946aa186e87caf88486ce7b6e3ffc3b46bd010292e12c"
 },
 "nbformat": 3,
 "nbformat_minor": 0,
 "worksheets": [
  {
   "cells": [
    {
     "cell_type": "code",
     "collapsed": false,
     "input": [
      "import numpy\n",
      "import numpy as np"
     ],
     "language": "python",
     "metadata": {},
     "outputs": [],
     "prompt_number": 2
    },
    {
     "cell_type": "markdown",
     "metadata": {},
     "source": [
      "Specifiy 5 pixels position relative to center of detector:\n",
      " - lower left corner\n",
      " - upper left corner\n",
      " - lower right corner\n",
      " - upper right corner\n",
      " - lower left center"
     ]
    },
    {
     "cell_type": "code",
     "collapsed": false,
     "input": [
      "det_pos_list = [[0.149854,-0.149854,0.], [0.149854,0.149854,0.], [-0.149854,-0.149854,0.],\n",
      "                [-0.149854,0.149854,0.], [0.000146484,-0.000146484,0.]]"
     ],
     "language": "python",
     "metadata": {},
     "outputs": [],
     "prompt_number": 5
    },
    {
     "cell_type": "markdown",
     "metadata": {},
     "source": [
      "det_pos_array = np.array(det_pos_list)"
     ]
    },
    {
     "cell_type": "markdown",
     "metadata": {},
     "source": [
      "Definition of operation"
     ]
    },
    {
     "cell_type": "code",
     "collapsed": false,
     "input": [
      "def set_arm(det_pos_array, r):\n",
      "    \"\"\" move from origin to +Z (arm distance)\n",
      "    \"\"\"\n",
      "    det_pos_array[:, 2] += r\n",
      "    \n",
      "    return det_pos_array"
     ],
     "language": "python",
     "metadata": {},
     "outputs": [],
     "prompt_number": 8
    },
    {
     "cell_type": "code",
     "collapsed": false,
     "input": [
      "def rotate_axis_x(det_pos_array, angle_degree):\n",
      "    \"\"\" rotate a set of positions along X axis\n",
      "    \"\"\"\n",
      "        # build rotation matrix\n",
      "    angle_rad = angle_degree * numpy.pi / 180.\n",
      "    rotate_matrix = numpy.matrix([[1., 0., 0.],\n",
      "                                  [0., numpy.cos(angle_rad), -numpy.sin(angle_rad)],\n",
      "                                  [0., numpy.sin(angle_rad), numpy.cos(angle_rad)]],\n",
      "                                 'float')\n",
      "    rotated_pixel_matrix = rotate_matrix * det_pos_array.transpose()\n",
      "    \n",
      "    return rotated_pixel_matrix.transpose()"
     ],
     "language": "python",
     "metadata": {},
     "outputs": [],
     "prompt_number": 18
    },
    {
     "cell_type": "code",
     "collapsed": false,
     "input": [
      "def rotate_axis_y(det_pos_array, angle_degree):\n",
      "    \"\"\" rotate a set of positions around Y axis\n",
      "    \"\"\"\n",
      "    # build rotation matrix\n",
      "    angle_rad = angle_degree * numpy.pi / 180.\n",
      "    rotate_matrix = numpy.matrix([[numpy.cos(angle_rad), 0., numpy.sin(angle_rad)],\n",
      "                                  [0., 1., 0.],\n",
      "                                  [-numpy.sin(angle_rad), 0., numpy.cos(angle_rad)]],\n",
      "                                 'float')\n",
      "    rotated_pixel_matrix = rotate_matrix * det_pos_array.transpose()\n",
      "    \n",
      "    return rotated_pixel_matrix.transpose()"
     ],
     "language": "python",
     "metadata": {},
     "outputs": [],
     "prompt_number": 13
    },
    {
     "cell_type": "code",
     "collapsed": false,
     "input": [
      "def rotate_axis_z(det_pos_array, angle_degree):\n",
      "    \"\"\" rotate a set of positions around Z axis\n",
      "    \"\"\"\n",
      "    # build rotation matrix\n",
      "    angle_rad = angle_degree * numpy.pi / 180.\n",
      "    rotate_matrix = numpy.matrix([[numpy.cos(angle_rad), -numpy.sin(angle_rad), 0.],\n",
      "                                  [numpy.sin(angle_rad), numpy.cos(angle_rad), 0.],\n",
      "                                  [0., 0., 1.]],\n",
      "                                 'float')\n",
      "    rotated_pixel_matrix = rotate_matrix * det_pos_array.transpose()\n",
      "    \n",
      "    return rotated_pixel_matrix.transpose()"
     ],
     "language": "python",
     "metadata": {},
     "outputs": [],
     "prompt_number": 21
    },
    {
     "cell_type": "heading",
     "level": 4,
     "metadata": {},
     "source": [
      "Test 1: Move along +Z direction (step 1)"
     ]
    },
    {
     "cell_type": "code",
     "collapsed": false,
     "input": [
      "raw_pos_array = np.matrix(det_pos_list)\n",
      "step1_pos = set_arm(raw_pos_array, 0.95)\n",
      "print (step1_pos)"
     ],
     "language": "python",
     "metadata": {},
     "outputs": [
      {
       "output_type": "stream",
       "stream": "stdout",
       "text": [
        "[[  1.49854000e-01  -1.49854000e-01   9.50000000e-01]\n",
        " [  1.49854000e-01   1.49854000e-01   9.50000000e-01]\n",
        " [ -1.49854000e-01  -1.49854000e-01   9.50000000e-01]\n",
        " [ -1.49854000e-01   1.49854000e-01   9.50000000e-01]\n",
        " [  1.46484000e-04  -1.46484000e-04   9.50000000e-01]]\n"
       ]
      }
     ],
     "prompt_number": 12
    },
    {
     "cell_type": "heading",
     "level": 4,
     "metadata": {},
     "source": [
      "Test 2: Move along +Z, Rotate along Y-axis for 90 degree"
     ]
    },
    {
     "cell_type": "code",
     "collapsed": false,
     "input": [
      "raw_pos_array = np.matrix(det_pos_list)\n",
      "step1_pos = set_arm(raw_pos_array, 0.95)\n",
      "step2_pos = rotate_axis_y(step1_pos, -90.)  # must be negative\n",
      "print (step2_pos)"
     ],
     "language": "python",
     "metadata": {},
     "outputs": [
      {
       "output_type": "stream",
       "stream": "stdout",
       "text": [
        "[[ -9.50000000e-01  -1.49854000e-01   1.49854000e-01]\n",
        " [ -9.50000000e-01   1.49854000e-01   1.49854000e-01]\n",
        " [ -9.50000000e-01  -1.49854000e-01  -1.49854000e-01]\n",
        " [ -9.50000000e-01   1.49854000e-01  -1.49854000e-01]\n",
        " [ -9.50000000e-01  -1.46484000e-04   1.46484000e-04]]\n"
       ]
      }
     ],
     "prompt_number": 15
    },
    {
     "cell_type": "heading",
     "level": 4,
     "metadata": {},
     "source": [
      "Test 3: Rotate along X-axis for 15 degree (flip), Move along +Z"
     ]
    },
    {
     "cell_type": "code",
     "collapsed": false,
     "input": [
      "raw_pos_array = np.matrix(det_pos_list)\n",
      "step1_pos = rotate_axis_x(raw_pos_array, 15.)  # must be negative\n",
      "step2_pos = set_arm(step1_pos, 0.95)\n",
      "print (step2_pos)"
     ],
     "language": "python",
     "metadata": {},
     "outputs": [
      {
       "output_type": "stream",
       "stream": "stdout",
       "text": [
        "[[  1.49854000e-01  -1.44747849e-01   9.11214931e-01]\n",
        " [  1.49854000e-01   1.44747849e-01   9.88785069e-01]\n",
        " [ -1.49854000e-01  -1.44747849e-01   9.11214931e-01]\n",
        " [ -1.49854000e-01   1.44747849e-01   9.88785069e-01]\n",
        " [  1.46484000e-04  -1.41492679e-04   9.49962087e-01]]\n"
       ]
      }
     ],
     "prompt_number": 20
    },
    {
     "cell_type": "heading",
     "level": 4,
     "metadata": {},
     "source": [
      "Test 4: Rotate along Z-axis for 5 degree (Spin), Move along +Z"
     ]
    },
    {
     "cell_type": "code",
     "collapsed": false,
     "input": [
      "raw_pos_array = np.matrix(det_pos_list)\n",
      "step1_pos = rotate_axis_z(raw_pos_array, 5.)\n",
      "step2_pos = set_arm(step1_pos, 0.95)\n",
      "print (step2_pos)"
     ],
     "language": "python",
     "metadata": {},
     "outputs": [
      {
       "output_type": "stream",
       "stream": "stdout",
       "text": [
        "[[  1.62344397e-01  -1.36223124e-01   9.50000000e-01]\n",
        " [  1.36223124e-01   1.62344397e-01   9.50000000e-01]\n",
        " [ -1.36223124e-01  -1.62344397e-01   9.50000000e-01]\n",
        " [ -1.62344397e-01   1.36223124e-01   9.50000000e-01]\n",
        " [  1.58693506e-04  -1.33159662e-04   9.50000000e-01]]\n"
       ]
      }
     ],
     "prompt_number": 22
    },
    {
     "cell_type": "heading",
     "level": 4,
     "metadata": {},
     "source": [
      "Test 5: Rotate along Z-axis (5 degree), Rotate along X-axis (15 degree), Move along +Z"
     ]
    },
    {
     "cell_type": "code",
     "collapsed": false,
     "input": [
      "raw_pos_array = np.matrix(det_pos_list)\n",
      "step1_pos = rotate_axis_z(raw_pos_array, 5.)\n",
      "step2_pos = rotate_axis_x(step1_pos, 15.)\n",
      "step3_pos = set_arm(step2_pos, 0.95)\n",
      "print (step3_pos)"
     ],
     "language": "python",
     "metadata": {},
     "outputs": [
      {
       "output_type": "stream",
       "stream": "stdout",
       "text": [
        "[[  1.62344397e-01  -1.31581433e-01   9.14742861e-01]\n",
        " [  1.36223124e-01   1.56812646e-01   9.92017822e-01]\n",
        " [ -1.36223124e-01  -1.56812646e-01   9.07982178e-01]\n",
        " [ -1.62344397e-01   1.31581433e-01   9.85257139e-01]\n",
        " [  1.58693506e-04  -1.28622357e-04   9.49965536e-01]]\n"
       ]
      }
     ],
     "prompt_number": 23
    },
    {
     "cell_type": "heading",
     "level": 4,
     "metadata": {},
     "source": [
      "Test 6: Rotate along X-axis (15 degree), Rotate along Z-axis (5 degree), Move along +Z"
     ]
    },
    {
     "cell_type": "code",
     "collapsed": false,
     "input": [
      "raw_pos_array = np.matrix(det_pos_list)\n",
      "step1_pos = rotate_axis_x(raw_pos_array, 15.)\n",
      "step2_pos = rotate_axis_z(step1_pos, 5.)\n",
      "step3_pos = set_arm(step2_pos, 0.95)\n",
      "print (step3_pos)"
     ],
     "language": "python",
     "metadata": {},
     "outputs": [
      {
       "output_type": "stream",
       "stream": "stdout",
       "text": [
        "[[  1.61899367e-01  -1.31136403e-01   9.11214931e-01]\n",
        " [  1.36668154e-01   1.57257676e-01   9.88785069e-01]\n",
        " [ -1.36668154e-01  -1.57257676e-01   9.11214931e-01]\n",
        " [ -1.61899367e-01   1.31136403e-01   9.88785069e-01]\n",
        " [  1.58258484e-04  -1.28187335e-04   9.49962087e-01]]\n"
       ]
      }
     ],
     "prompt_number": 24
    },
    {
     "cell_type": "heading",
     "level": 4,
     "metadata": {},
     "source": [
      "Test 7: Rotate along X-axis (15 degree), Rotate along Z-axis (5 degree), Move along +Z, rotate detector to 2theta=85."
     ]
    },
    {
     "cell_type": "code",
     "collapsed": false,
     "input": [
      "raw_pos_array = np.matrix(det_pos_list)\n",
      "step1_pos = rotate_axis_x(raw_pos_array, 15.)\n",
      "step2_pos = rotate_axis_z(step1_pos, 5.)\n",
      "step3_pos = set_arm(step2_pos, 0.95)\n",
      "step4_pos = rotate_axis_y(step3_pos, -90.)\n",
      "print (step4_pos)"
     ],
     "language": "python",
     "metadata": {},
     "outputs": [
      {
       "output_type": "stream",
       "stream": "stdout",
       "text": [
        "[[ -9.11214931e-01  -1.31136403e-01   1.61899367e-01]\n",
        " [ -9.88785069e-01   1.57257676e-01   1.36668154e-01]\n",
        " [ -9.11214931e-01  -1.57257676e-01  -1.36668154e-01]\n",
        " [ -9.88785069e-01   1.31136403e-01  -1.61899367e-01]\n",
        " [ -9.49962087e-01  -1.28187335e-04   1.58258484e-04]]\n"
       ]
      }
     ],
     "prompt_number": 26
    }
   ],
   "metadata": {}
  }
 ]
}
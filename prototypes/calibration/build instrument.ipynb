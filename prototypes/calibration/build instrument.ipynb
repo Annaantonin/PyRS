{
 "metadata": {
  "name": "",
  "signature": "sha256:1b8f43e0af3bf1cf66ff99804b67c1b23725de9be34f9c382c3a48c111dd7424"
 },
 "nbformat": 3,
 "nbformat_minor": 0,
 "worksheets": [
  {
   "cells": [
    {
     "cell_type": "markdown",
     "metadata": {},
     "source": [
      "prototype for creating an instrument with same geometry that is created in Mantid"
     ]
    },
    {
     "cell_type": "markdown",
     "metadata": {},
     "source": [
      "rotation procedure for 1 pixel\n",
      " 1. assume the center of the detector is at center\n",
      " 2. shift along x-axis (horizontal)\n",
      " 3. shift along y-axis (vertical)\n",
      " 4. rotate along z-axis (calibrated)\n",
      " 5. rotate along y-axis (calibrated)\n",
      " 6. rotate along x-axis (calibrated)\n",
      " 7. move to R along z-axis\n",
      " 8. rotate along y-axis (2theta)"
     ]
    },
    {
     "cell_type": "code",
     "collapsed": false,
     "input": [
      "import numpy"
     ],
     "language": "python",
     "metadata": {},
     "outputs": [],
     "prompt_number": 1
    },
    {
     "cell_type": "code",
     "collapsed": false,
     "input": [
      "degree = 90 * numpy.pi / 180."
     ],
     "language": "python",
     "metadata": {},
     "outputs": [],
     "prompt_number": 3
    },
    {
     "cell_type": "code",
     "collapsed": false,
     "input": [
      "rotate_z = numpy.matrix([[numpy.cos(degree), -numpy.sin(degree), 0.], [numpy.sin(degree), numpy.cos(degree), 0.], [0., 0., 1]], 'float')"
     ],
     "language": "python",
     "metadata": {},
     "outputs": [],
     "prompt_number": 7
    },
    {
     "cell_type": "code",
     "collapsed": false,
     "input": [
      "center = numpy.matrix([0, 0, 2])"
     ],
     "language": "python",
     "metadata": {},
     "outputs": [],
     "prompt_number": 16
    },
    {
     "cell_type": "code",
     "collapsed": false,
     "input": [
      "rotate_y = numpy.matrix([[numpy.cos(degree), 0., numpy.sin(degree)], [0., 1., 0.], [-numpy.sin(degree), 0., numpy.cos(degree)]], 'float')"
     ],
     "language": "python",
     "metadata": {},
     "outputs": [],
     "prompt_number": 9
    },
    {
     "cell_type": "markdown",
     "metadata": {},
     "source": [
      "rotate about Y axis (vertical in Mantid)"
     ]
    },
    {
     "cell_type": "code",
     "collapsed": false,
     "input": [
      "rotate_y * center.transpose()"
     ],
     "language": "python",
     "metadata": {},
     "outputs": [
      {
       "metadata": {},
       "output_type": "pyout",
       "prompt_number": 18,
       "text": [
        "matrix([[  2.00000000e+00],\n",
        "        [  0.00000000e+00],\n",
        "        [  1.22464680e-16]])"
       ]
      }
     ],
     "prompt_number": 18
    },
    {
     "cell_type": "code",
     "collapsed": false,
     "input": [
      "left_edget = numpy.matrix([0.5, 0., 2])\n",
      "rotate_y * left_edget.transpose()"
     ],
     "language": "python",
     "metadata": {},
     "outputs": [
      {
       "metadata": {},
       "output_type": "pyout",
       "prompt_number": 20,
       "text": [
        "matrix([[ 2. ],\n",
        "        [ 0. ],\n",
        "        [-0.5]])"
       ]
      }
     ],
     "prompt_number": 20
    },
    {
     "cell_type": "markdown",
     "metadata": {},
     "source": [
      "Playground is above this line.\n",
      "\n",
      "What below is serious"
     ]
    },
    {
     "cell_type": "code",
     "collapsed": false,
     "input": [
      "def build_detector():\n",
      "    # detector list: center, lower-left, upper-left, lower-right, upper-right\n",
      "    pixel_pos_list = [[0., 0., 0.],\n",
      "                      [1, -1, 0.],\n",
      "                      [1, 1, 0.],\n",
      "                      [-1., -1., 0.],\n",
      "                      [-1., 1., 0]]\n",
      "    pixel_matrix = numpy.matrix(pixel_pos_list).transpose()\n",
      "    \n",
      "    return pixel_matrix"
     ],
     "language": "python",
     "metadata": {},
     "outputs": [],
     "prompt_number": 23
    },
    {
     "cell_type": "code",
     "collapsed": false,
     "input": [
      "def rotate_y(pixel_matrix, degree):\n",
      "    degree = degree * numpy.pi / 180.\n",
      "    rotate_matrix = numpy.matrix([[numpy.cos(degree), 0., numpy.sin(degree)], [0., 1., 0.], [-numpy.sin(degree), 0., numpy.cos(degree)]],\n",
      "                                 'float')\n",
      "    rotated_pixel_matrix = rotate_matrix * pixel_matrix\n",
      "    \n",
      "    return rotated_pixel_matrix\n",
      "\n",
      "pixel_matrix = build_detector()\n",
      "print pixel_matrix\n",
      "print rotate_y(pixel_matrix, 30)"
     ],
     "language": "python",
     "metadata": {},
     "outputs": [
      {
       "output_type": "stream",
       "stream": "stdout",
       "text": [
        "[[ 0.  1.  1. -1. -1.]\n",
        " [ 0. -1.  1. -1.  1.]\n",
        " [ 0.  0.  0.  0.  0.]]\n",
        "[[ 0.         0.8660254  0.8660254 -0.8660254 -0.8660254]\n",
        " [ 0.        -1.         1.        -1.         1.       ]\n",
        " [ 0.        -0.5       -0.5        0.5        0.5      ]]\n"
       ]
      }
     ],
     "prompt_number": 27
    }
   ],
   "metadata": {}
  }
 ]
}